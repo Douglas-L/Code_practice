{
 "cells": [
  {
   "cell_type": "code",
   "execution_count": 1,
   "metadata": {},
   "outputs": [
    {
     "name": "stderr",
     "output_type": "stream",
     "text": [
      "/home/douglas/anaconda3/lib/python3.6/site-packages/psycopg2/__init__.py:144: UserWarning: The psycopg2 wheel package will be renamed from release 2.8; in order to keep installing from binary please use \"pip install psycopg2-binary\" instead. For details see: <http://initd.org/psycopg/docs/install.html#binary-install-from-pypi>.\n",
      "  \"\"\")\n"
     ]
    }
   ],
   "source": [
    "from sqlalchemy import create_engine\n",
    "import pandas as pd \n",
    "import json\n",
    "pd.set_option('display.max_columns', 500)\n",
    "with open('/home/douglas/postgres_credentials.json') as f:\n",
    "    data = json.load(f)\n",
    "    username = data['username']\n",
    "    password = data['password']\n",
    "    address = data['address']\n",
    "\n",
    "conn = create_engine('postgresql://{}:{}@{}:5432/ex_normalize'.format(username, password, address))"
   ]
  },
  {
   "cell_type": "markdown",
   "metadata": {},
   "source": [
    "# Explore with CSV\n",
    "\n",
    "Look at structure of data set using pandas.\n",
    "Skip ahead to next section 'Normalize Database' for normalization steps with SQL. "
   ]
  },
  {
   "cell_type": "code",
   "execution_count": 2,
   "metadata": {},
   "outputs": [],
   "source": [
    "orders = pd.read_csv('/var/tmp/SQL_practice/07_normalize_superstore/orders.csv')"
   ]
  },
  {
   "cell_type": "code",
   "execution_count": 3,
   "metadata": {},
   "outputs": [
    {
     "data": {
      "text/html": [
       "<div>\n",
       "<style scoped>\n",
       "    .dataframe tbody tr th:only-of-type {\n",
       "        vertical-align: middle;\n",
       "    }\n",
       "\n",
       "    .dataframe tbody tr th {\n",
       "        vertical-align: top;\n",
       "    }\n",
       "\n",
       "    .dataframe thead th {\n",
       "        text-align: right;\n",
       "    }\n",
       "</style>\n",
       "<table border=\"1\" class=\"dataframe\">\n",
       "  <thead>\n",
       "    <tr style=\"text-align: right;\">\n",
       "      <th></th>\n",
       "      <th>Row ID</th>\n",
       "      <th>Order Priority</th>\n",
       "      <th>Discount</th>\n",
       "      <th>Unit Price</th>\n",
       "      <th>Shipping Cost</th>\n",
       "      <th>Customer ID</th>\n",
       "      <th>Customer Name</th>\n",
       "      <th>Ship Mode</th>\n",
       "      <th>Customer Segment</th>\n",
       "      <th>Product Category</th>\n",
       "      <th>Product Sub-Category</th>\n",
       "      <th>Product Container</th>\n",
       "      <th>Product Name</th>\n",
       "      <th>Product Base Margin</th>\n",
       "      <th>Country</th>\n",
       "      <th>Region</th>\n",
       "      <th>State or Province</th>\n",
       "      <th>City</th>\n",
       "      <th>Postal Code</th>\n",
       "      <th>Order Date</th>\n",
       "      <th>Ship Date</th>\n",
       "      <th>Profit</th>\n",
       "      <th>Quantity ordered new</th>\n",
       "      <th>Sales</th>\n",
       "      <th>Order ID</th>\n",
       "    </tr>\n",
       "  </thead>\n",
       "  <tbody>\n",
       "    <tr>\n",
       "      <th>0</th>\n",
       "      <td>20847</td>\n",
       "      <td>High</td>\n",
       "      <td>0.01</td>\n",
       "      <td>2.84</td>\n",
       "      <td>0.93</td>\n",
       "      <td>3</td>\n",
       "      <td>Bonnie Potter</td>\n",
       "      <td>Express Air</td>\n",
       "      <td>Corporate</td>\n",
       "      <td>Office Supplies</td>\n",
       "      <td>Pens &amp; Art Supplies</td>\n",
       "      <td>Wrap Bag</td>\n",
       "      <td>SANFORD Liquid Accent™ Tank-Style Highlighters</td>\n",
       "      <td>0.54</td>\n",
       "      <td>United States</td>\n",
       "      <td>West</td>\n",
       "      <td>Washington</td>\n",
       "      <td>Anacortes</td>\n",
       "      <td>98221</td>\n",
       "      <td>2015-01-07</td>\n",
       "      <td>2015-01-08</td>\n",
       "      <td>4.5600</td>\n",
       "      <td>4</td>\n",
       "      <td>13.01</td>\n",
       "      <td>88522</td>\n",
       "    </tr>\n",
       "    <tr>\n",
       "      <th>1</th>\n",
       "      <td>20228</td>\n",
       "      <td>Not Specified</td>\n",
       "      <td>0.02</td>\n",
       "      <td>500.98</td>\n",
       "      <td>26.00</td>\n",
       "      <td>5</td>\n",
       "      <td>Ronnie Proctor</td>\n",
       "      <td>Delivery Truck</td>\n",
       "      <td>Home Office</td>\n",
       "      <td>Furniture</td>\n",
       "      <td>Chairs &amp; Chairmats</td>\n",
       "      <td>Jumbo Drum</td>\n",
       "      <td>Global Troy™ Executive Leather Low-Back Tilter</td>\n",
       "      <td>0.60</td>\n",
       "      <td>United States</td>\n",
       "      <td>West</td>\n",
       "      <td>California</td>\n",
       "      <td>San Gabriel</td>\n",
       "      <td>91776</td>\n",
       "      <td>2015-06-13</td>\n",
       "      <td>2015-06-15</td>\n",
       "      <td>4390.3665</td>\n",
       "      <td>12</td>\n",
       "      <td>6362.85</td>\n",
       "      <td>90193</td>\n",
       "    </tr>\n",
       "    <tr>\n",
       "      <th>2</th>\n",
       "      <td>21776</td>\n",
       "      <td>Critical</td>\n",
       "      <td>0.06</td>\n",
       "      <td>9.48</td>\n",
       "      <td>7.29</td>\n",
       "      <td>11</td>\n",
       "      <td>Marcus Dunlap</td>\n",
       "      <td>Regular Air</td>\n",
       "      <td>Home Office</td>\n",
       "      <td>Furniture</td>\n",
       "      <td>Office Furnishings</td>\n",
       "      <td>Small Pack</td>\n",
       "      <td>DAX Two-Tone Rosewood/Black Document Frame, De...</td>\n",
       "      <td>0.45</td>\n",
       "      <td>United States</td>\n",
       "      <td>East</td>\n",
       "      <td>New Jersey</td>\n",
       "      <td>Roselle</td>\n",
       "      <td>7203</td>\n",
       "      <td>2015-02-15</td>\n",
       "      <td>2015-02-17</td>\n",
       "      <td>-53.8096</td>\n",
       "      <td>22</td>\n",
       "      <td>211.15</td>\n",
       "      <td>90192</td>\n",
       "    </tr>\n",
       "    <tr>\n",
       "      <th>3</th>\n",
       "      <td>24844</td>\n",
       "      <td>Medium</td>\n",
       "      <td>0.09</td>\n",
       "      <td>78.69</td>\n",
       "      <td>19.99</td>\n",
       "      <td>14</td>\n",
       "      <td>Gwendolyn F Tyson</td>\n",
       "      <td>Regular Air</td>\n",
       "      <td>Small Business</td>\n",
       "      <td>Furniture</td>\n",
       "      <td>Office Furnishings</td>\n",
       "      <td>Small Box</td>\n",
       "      <td>Howard Miller 12-3/4 Diameter Accuwave DS ™ Wa...</td>\n",
       "      <td>0.43</td>\n",
       "      <td>United States</td>\n",
       "      <td>Central</td>\n",
       "      <td>Minnesota</td>\n",
       "      <td>Prior Lake</td>\n",
       "      <td>55372</td>\n",
       "      <td>2015-05-12</td>\n",
       "      <td>2015-05-14</td>\n",
       "      <td>803.4705</td>\n",
       "      <td>16</td>\n",
       "      <td>1164.45</td>\n",
       "      <td>86838</td>\n",
       "    </tr>\n",
       "    <tr>\n",
       "      <th>4</th>\n",
       "      <td>24846</td>\n",
       "      <td>Medium</td>\n",
       "      <td>0.08</td>\n",
       "      <td>3.28</td>\n",
       "      <td>2.31</td>\n",
       "      <td>14</td>\n",
       "      <td>Gwendolyn F Tyson</td>\n",
       "      <td>Regular Air</td>\n",
       "      <td>Small Business</td>\n",
       "      <td>Office Supplies</td>\n",
       "      <td>Pens &amp; Art Supplies</td>\n",
       "      <td>Wrap Bag</td>\n",
       "      <td>Newell 321</td>\n",
       "      <td>0.56</td>\n",
       "      <td>United States</td>\n",
       "      <td>Central</td>\n",
       "      <td>Minnesota</td>\n",
       "      <td>Prior Lake</td>\n",
       "      <td>55372</td>\n",
       "      <td>2015-05-12</td>\n",
       "      <td>2015-05-13</td>\n",
       "      <td>-24.0300</td>\n",
       "      <td>7</td>\n",
       "      <td>22.23</td>\n",
       "      <td>86838</td>\n",
       "    </tr>\n",
       "  </tbody>\n",
       "</table>\n",
       "</div>"
      ],
      "text/plain": [
       "   Row ID Order Priority  Discount  Unit Price  Shipping Cost  Customer ID  \\\n",
       "0   20847           High      0.01        2.84           0.93            3   \n",
       "1   20228  Not Specified      0.02      500.98          26.00            5   \n",
       "2   21776       Critical      0.06        9.48           7.29           11   \n",
       "3   24844         Medium      0.09       78.69          19.99           14   \n",
       "4   24846         Medium      0.08        3.28           2.31           14   \n",
       "\n",
       "       Customer Name       Ship Mode Customer Segment Product Category  \\\n",
       "0      Bonnie Potter     Express Air        Corporate  Office Supplies   \n",
       "1     Ronnie Proctor  Delivery Truck      Home Office        Furniture   \n",
       "2      Marcus Dunlap     Regular Air      Home Office        Furniture   \n",
       "3  Gwendolyn F Tyson     Regular Air   Small Business        Furniture   \n",
       "4  Gwendolyn F Tyson     Regular Air   Small Business  Office Supplies   \n",
       "\n",
       "  Product Sub-Category Product Container  \\\n",
       "0  Pens & Art Supplies          Wrap Bag   \n",
       "1   Chairs & Chairmats        Jumbo Drum   \n",
       "2   Office Furnishings        Small Pack   \n",
       "3   Office Furnishings         Small Box   \n",
       "4  Pens & Art Supplies          Wrap Bag   \n",
       "\n",
       "                                        Product Name  Product Base Margin  \\\n",
       "0     SANFORD Liquid Accent™ Tank-Style Highlighters                 0.54   \n",
       "1     Global Troy™ Executive Leather Low-Back Tilter                 0.60   \n",
       "2  DAX Two-Tone Rosewood/Black Document Frame, De...                 0.45   \n",
       "3  Howard Miller 12-3/4 Diameter Accuwave DS ™ Wa...                 0.43   \n",
       "4                                         Newell 321                 0.56   \n",
       "\n",
       "         Country   Region State or Province         City  Postal Code  \\\n",
       "0  United States     West        Washington    Anacortes        98221   \n",
       "1  United States     West        California  San Gabriel        91776   \n",
       "2  United States     East        New Jersey      Roselle         7203   \n",
       "3  United States  Central         Minnesota   Prior Lake        55372   \n",
       "4  United States  Central         Minnesota   Prior Lake        55372   \n",
       "\n",
       "   Order Date   Ship Date     Profit  Quantity ordered new    Sales  Order ID  \n",
       "0  2015-01-07  2015-01-08     4.5600                     4    13.01     88522  \n",
       "1  2015-06-13  2015-06-15  4390.3665                    12  6362.85     90193  \n",
       "2  2015-02-15  2015-02-17   -53.8096                    22   211.15     90192  \n",
       "3  2015-05-12  2015-05-14   803.4705                    16  1164.45     86838  \n",
       "4  2015-05-12  2015-05-13   -24.0300                     7    22.23     86838  "
      ]
     },
     "execution_count": 3,
     "metadata": {},
     "output_type": "execute_result"
    }
   ],
   "source": [
    "orders.head()"
   ]
  },
  {
   "cell_type": "code",
   "execution_count": 4,
   "metadata": {},
   "outputs": [
    {
     "data": {
      "text/plain": [
       "Index(['Row ID', 'Order Priority', 'Discount', 'Unit Price', 'Shipping Cost',\n",
       "       'Customer ID', 'Customer Name', 'Ship Mode', 'Customer Segment',\n",
       "       'Product Category', 'Product Sub-Category', 'Product Container',\n",
       "       'Product Name', 'Product Base Margin', 'Country', 'Region',\n",
       "       'State or Province', 'City', 'Postal Code', 'Order Date', 'Ship Date',\n",
       "       'Profit', 'Quantity ordered new', 'Sales', 'Order ID'],\n",
       "      dtype='object')"
      ]
     },
     "execution_count": 4,
     "metadata": {},
     "output_type": "execute_result"
    }
   ],
   "source": [
    "orders.columns"
   ]
  },
  {
   "cell_type": "code",
   "execution_count": 5,
   "metadata": {},
   "outputs": [
    {
     "data": {
      "text/plain": [
       "(1952, 25)"
      ]
     },
     "execution_count": 5,
     "metadata": {},
     "output_type": "execute_result"
    }
   ],
   "source": [
    "orders.shape"
   ]
  },
  {
   "cell_type": "code",
   "execution_count": 6,
   "metadata": {},
   "outputs": [
    {
     "data": {
      "text/plain": [
       "Row ID                    int64\n",
       "Order Priority           object\n",
       "Discount                float64\n",
       "Unit Price              float64\n",
       "Shipping Cost           float64\n",
       "Customer ID               int64\n",
       "Customer Name            object\n",
       "Ship Mode                object\n",
       "Customer Segment         object\n",
       "Product Category         object\n",
       "Product Sub-Category     object\n",
       "Product Container        object\n",
       "Product Name             object\n",
       "Product Base Margin     float64\n",
       "Country                  object\n",
       "Region                   object\n",
       "State or Province        object\n",
       "City                     object\n",
       "Postal Code               int64\n",
       "Order Date               object\n",
       "Ship Date                object\n",
       "Profit                  float64\n",
       "Quantity ordered new      int64\n",
       "Sales                   float64\n",
       "Order ID                  int64\n",
       "dtype: object"
      ]
     },
     "execution_count": 6,
     "metadata": {},
     "output_type": "execute_result"
    }
   ],
   "source": [
    "orders.dtypes"
   ]
  },
  {
   "cell_type": "code",
   "execution_count": 7,
   "metadata": {},
   "outputs": [
    {
     "name": "stdout",
     "output_type": "stream",
     "text": [
      "Row ID 1951\n",
      "Order Priority 6\n",
      "Discount 13\n",
      "Unit Price 597\n",
      "Shipping Cost 497\n",
      "Customer ID 1130\n",
      "Customer Name 1130\n",
      "Ship Mode 3\n",
      "Customer Segment 4\n",
      "Product Category 3\n",
      "Product Sub-Category 17\n",
      "Product Container 7\n",
      "Product Name 913\n",
      "Product Base Margin 51\n",
      "Country 1\n",
      "Region 4\n",
      "State or Province 49\n",
      "City 869\n",
      "Postal Code 981\n",
      "Order Date 179\n",
      "Ship Date 187\n",
      "Profit 1897\n",
      "Quantity ordered new 76\n",
      "Sales 1922\n",
      "Order ID 1365\n"
     ]
    }
   ],
   "source": [
    "for c in orders.columns:\n",
    "    print(c, orders[c].nunique())"
   ]
  },
  {
   "cell_type": "code",
   "execution_count": 8,
   "metadata": {},
   "outputs": [],
   "source": [
    "# orders.groupby('Customer ID')['Postal Code'].nunique()\n",
    "# all 1's\n",
    "# customers have unique addresses but what if have multiple addresses?\n",
    "# create own table for addresses"
   ]
  },
  {
   "cell_type": "code",
   "execution_count": 9,
   "metadata": {},
   "outputs": [],
   "source": [
    "#orders.groupby('Customer ID')['Order ID'].nunique()"
   ]
  },
  {
   "cell_type": "code",
   "execution_count": 10,
   "metadata": {},
   "outputs": [
    {
     "data": {
      "text/html": [
       "<div>\n",
       "<style scoped>\n",
       "    .dataframe tbody tr th:only-of-type {\n",
       "        vertical-align: middle;\n",
       "    }\n",
       "\n",
       "    .dataframe tbody tr th {\n",
       "        vertical-align: top;\n",
       "    }\n",
       "\n",
       "    .dataframe thead th {\n",
       "        text-align: right;\n",
       "    }\n",
       "</style>\n",
       "<table border=\"1\" class=\"dataframe\">\n",
       "  <thead>\n",
       "    <tr style=\"text-align: right;\">\n",
       "      <th></th>\n",
       "      <th>Row ID</th>\n",
       "      <th>Order Priority</th>\n",
       "      <th>Discount</th>\n",
       "      <th>Unit Price</th>\n",
       "      <th>Shipping Cost</th>\n",
       "      <th>Customer ID</th>\n",
       "      <th>Customer Name</th>\n",
       "      <th>Ship Mode</th>\n",
       "      <th>Customer Segment</th>\n",
       "      <th>Product Category</th>\n",
       "      <th>Product Sub-Category</th>\n",
       "      <th>Product Container</th>\n",
       "      <th>Product Name</th>\n",
       "      <th>Product Base Margin</th>\n",
       "      <th>Country</th>\n",
       "      <th>Region</th>\n",
       "      <th>State or Province</th>\n",
       "      <th>City</th>\n",
       "      <th>Postal Code</th>\n",
       "      <th>Order Date</th>\n",
       "      <th>Ship Date</th>\n",
       "      <th>Profit</th>\n",
       "      <th>Quantity ordered new</th>\n",
       "      <th>Sales</th>\n",
       "      <th>Order ID</th>\n",
       "    </tr>\n",
       "  </thead>\n",
       "  <tbody>\n",
       "    <tr>\n",
       "      <th>19</th>\n",
       "      <td>23509</td>\n",
       "      <td>High</td>\n",
       "      <td>0.08</td>\n",
       "      <td>34.99</td>\n",
       "      <td>7.73</td>\n",
       "      <td>32</td>\n",
       "      <td>Matthew Berman</td>\n",
       "      <td>Regular Air</td>\n",
       "      <td>Corporate</td>\n",
       "      <td>Office Supplies</td>\n",
       "      <td>Pens &amp; Art Supplies</td>\n",
       "      <td>Small Box</td>\n",
       "      <td>Hunt Boston® Vacuum Mount KS Pencil Sharpener</td>\n",
       "      <td>0.59</td>\n",
       "      <td>United States</td>\n",
       "      <td>West</td>\n",
       "      <td>Oregon</td>\n",
       "      <td>Grants Pass</td>\n",
       "      <td>97526</td>\n",
       "      <td>2015-02-22</td>\n",
       "      <td>2015-02-23</td>\n",
       "      <td>144.6900</td>\n",
       "      <td>13</td>\n",
       "      <td>424.68</td>\n",
       "      <td>89199</td>\n",
       "    </tr>\n",
       "    <tr>\n",
       "      <th>20</th>\n",
       "      <td>23612</td>\n",
       "      <td>High</td>\n",
       "      <td>0.01</td>\n",
       "      <td>17.98</td>\n",
       "      <td>8.51</td>\n",
       "      <td>32</td>\n",
       "      <td>Matthew Berman</td>\n",
       "      <td>Regular Air</td>\n",
       "      <td>Corporate</td>\n",
       "      <td>Technology</td>\n",
       "      <td>Office Machines</td>\n",
       "      <td>Medium Box</td>\n",
       "      <td>Canon P1-DHIII Palm Printing Calculator</td>\n",
       "      <td>0.40</td>\n",
       "      <td>United States</td>\n",
       "      <td>West</td>\n",
       "      <td>Oregon</td>\n",
       "      <td>Grants Pass</td>\n",
       "      <td>97526</td>\n",
       "      <td>2015-03-27</td>\n",
       "      <td>2015-03-28</td>\n",
       "      <td>-35.8788</td>\n",
       "      <td>2</td>\n",
       "      <td>40.17</td>\n",
       "      <td>89200</td>\n",
       "    </tr>\n",
       "    <tr>\n",
       "      <th>21</th>\n",
       "      <td>23278</td>\n",
       "      <td>Medium</td>\n",
       "      <td>0.09</td>\n",
       "      <td>125.99</td>\n",
       "      <td>7.69</td>\n",
       "      <td>32</td>\n",
       "      <td>Matthew Berman</td>\n",
       "      <td>Express Air</td>\n",
       "      <td>Corporate</td>\n",
       "      <td>Technology</td>\n",
       "      <td>Telephones and Communication</td>\n",
       "      <td>Small Box</td>\n",
       "      <td>StarTAC 3000</td>\n",
       "      <td>0.59</td>\n",
       "      <td>United States</td>\n",
       "      <td>West</td>\n",
       "      <td>Oregon</td>\n",
       "      <td>Grants Pass</td>\n",
       "      <td>97526</td>\n",
       "      <td>2015-01-20</td>\n",
       "      <td>2015-01-22</td>\n",
       "      <td>209.9970</td>\n",
       "      <td>8</td>\n",
       "      <td>783.55</td>\n",
       "      <td>89202</td>\n",
       "    </tr>\n",
       "    <tr>\n",
       "      <th>22</th>\n",
       "      <td>19355</td>\n",
       "      <td>Low</td>\n",
       "      <td>0.06</td>\n",
       "      <td>205.99</td>\n",
       "      <td>8.99</td>\n",
       "      <td>32</td>\n",
       "      <td>Matthew Berman</td>\n",
       "      <td>Regular Air</td>\n",
       "      <td>Corporate</td>\n",
       "      <td>Technology</td>\n",
       "      <td>Telephones and Communication</td>\n",
       "      <td>Small Box</td>\n",
       "      <td>TimeportP7382</td>\n",
       "      <td>0.56</td>\n",
       "      <td>United States</td>\n",
       "      <td>West</td>\n",
       "      <td>Oregon</td>\n",
       "      <td>Grants Pass</td>\n",
       "      <td>97526</td>\n",
       "      <td>2015-03-12</td>\n",
       "      <td>2015-03-19</td>\n",
       "      <td>3568.0960</td>\n",
       "      <td>22</td>\n",
       "      <td>3838.14</td>\n",
       "      <td>89203</td>\n",
       "    </tr>\n",
       "  </tbody>\n",
       "</table>\n",
       "</div>"
      ],
      "text/plain": [
       "    Row ID Order Priority  Discount  Unit Price  Shipping Cost  Customer ID  \\\n",
       "19   23509           High      0.08       34.99           7.73           32   \n",
       "20   23612           High      0.01       17.98           8.51           32   \n",
       "21   23278         Medium      0.09      125.99           7.69           32   \n",
       "22   19355            Low      0.06      205.99           8.99           32   \n",
       "\n",
       "     Customer Name    Ship Mode Customer Segment Product Category  \\\n",
       "19  Matthew Berman  Regular Air        Corporate  Office Supplies   \n",
       "20  Matthew Berman  Regular Air        Corporate       Technology   \n",
       "21  Matthew Berman  Express Air        Corporate       Technology   \n",
       "22  Matthew Berman  Regular Air        Corporate       Technology   \n",
       "\n",
       "            Product Sub-Category Product Container  \\\n",
       "19           Pens & Art Supplies         Small Box   \n",
       "20               Office Machines        Medium Box   \n",
       "21  Telephones and Communication         Small Box   \n",
       "22  Telephones and Communication         Small Box   \n",
       "\n",
       "                                     Product Name  Product Base Margin  \\\n",
       "19  Hunt Boston® Vacuum Mount KS Pencil Sharpener                 0.59   \n",
       "20        Canon P1-DHIII Palm Printing Calculator                 0.40   \n",
       "21                                   StarTAC 3000                 0.59   \n",
       "22                                  TimeportP7382                 0.56   \n",
       "\n",
       "          Country Region State or Province         City  Postal Code  \\\n",
       "19  United States   West            Oregon  Grants Pass        97526   \n",
       "20  United States   West            Oregon  Grants Pass        97526   \n",
       "21  United States   West            Oregon  Grants Pass        97526   \n",
       "22  United States   West            Oregon  Grants Pass        97526   \n",
       "\n",
       "    Order Date   Ship Date     Profit  Quantity ordered new    Sales  Order ID  \n",
       "19  2015-02-22  2015-02-23   144.6900                    13   424.68     89199  \n",
       "20  2015-03-27  2015-03-28   -35.8788                     2    40.17     89200  \n",
       "21  2015-01-20  2015-01-22   209.9970                     8   783.55     89202  \n",
       "22  2015-03-12  2015-03-19  3568.0960                    22  3838.14     89203  "
      ]
     },
     "execution_count": 10,
     "metadata": {},
     "output_type": "execute_result"
    }
   ],
   "source": [
    "# look at one person with multiple orders\n",
    "orders[orders['Customer ID'] == 32]\n",
    "# note same address"
   ]
  },
  {
   "cell_type": "code",
   "execution_count": 11,
   "metadata": {},
   "outputs": [
    {
     "data": {
      "text/plain": [
       "4259.8732"
      ]
     },
     "execution_count": 11,
     "metadata": {},
     "output_type": "execute_result"
    }
   ],
   "source": [
    "# Sales doesn't add up with multiplying quantity by unit price?\n",
    "205.99 * 22 * 0.94"
   ]
  },
  {
   "cell_type": "code",
   "execution_count": 12,
   "metadata": {},
   "outputs": [],
   "source": [
    "money = orders[['Discount', 'Unit Price', 'Shipping Cost', 'Product Base Margin', 'Profit', 'Quantity ordered new', 'Sales']]"
   ]
  },
  {
   "cell_type": "code",
   "execution_count": 13,
   "metadata": {},
   "outputs": [
    {
     "name": "stderr",
     "output_type": "stream",
     "text": [
      "/home/douglas/anaconda3/lib/python3.6/site-packages/ipykernel_launcher.py:2: SettingWithCopyWarning: \n",
      "A value is trying to be set on a copy of a slice from a DataFrame.\n",
      "Try using .loc[row_indexer,col_indexer] = value instead\n",
      "\n",
      "See the caveats in the documentation: http://pandas.pydata.org/pandas-docs/stable/indexing.html#indexing-view-versus-copy\n",
      "  \n"
     ]
    },
    {
     "data": {
      "text/html": [
       "<div>\n",
       "<style scoped>\n",
       "    .dataframe tbody tr th:only-of-type {\n",
       "        vertical-align: middle;\n",
       "    }\n",
       "\n",
       "    .dataframe tbody tr th {\n",
       "        vertical-align: top;\n",
       "    }\n",
       "\n",
       "    .dataframe thead th {\n",
       "        text-align: right;\n",
       "    }\n",
       "</style>\n",
       "<table border=\"1\" class=\"dataframe\">\n",
       "  <thead>\n",
       "    <tr style=\"text-align: right;\">\n",
       "      <th></th>\n",
       "      <th>Discount</th>\n",
       "      <th>Unit Price</th>\n",
       "      <th>Shipping Cost</th>\n",
       "      <th>Product Base Margin</th>\n",
       "      <th>Profit</th>\n",
       "      <th>Quantity ordered new</th>\n",
       "      <th>Sales</th>\n",
       "      <th>disc_total</th>\n",
       "    </tr>\n",
       "  </thead>\n",
       "  <tbody>\n",
       "    <tr>\n",
       "      <th>0</th>\n",
       "      <td>0.01</td>\n",
       "      <td>2.84</td>\n",
       "      <td>0.93</td>\n",
       "      <td>0.54</td>\n",
       "      <td>4.5600</td>\n",
       "      <td>4</td>\n",
       "      <td>13.01</td>\n",
       "      <td>11.2464</td>\n",
       "    </tr>\n",
       "    <tr>\n",
       "      <th>1</th>\n",
       "      <td>0.02</td>\n",
       "      <td>500.98</td>\n",
       "      <td>26.00</td>\n",
       "      <td>0.60</td>\n",
       "      <td>4390.3665</td>\n",
       "      <td>12</td>\n",
       "      <td>6362.85</td>\n",
       "      <td>5891.5248</td>\n",
       "    </tr>\n",
       "    <tr>\n",
       "      <th>2</th>\n",
       "      <td>0.06</td>\n",
       "      <td>9.48</td>\n",
       "      <td>7.29</td>\n",
       "      <td>0.45</td>\n",
       "      <td>-53.8096</td>\n",
       "      <td>22</td>\n",
       "      <td>211.15</td>\n",
       "      <td>196.0464</td>\n",
       "    </tr>\n",
       "    <tr>\n",
       "      <th>3</th>\n",
       "      <td>0.09</td>\n",
       "      <td>78.69</td>\n",
       "      <td>19.99</td>\n",
       "      <td>0.43</td>\n",
       "      <td>803.4705</td>\n",
       "      <td>16</td>\n",
       "      <td>1164.45</td>\n",
       "      <td>1145.7264</td>\n",
       "    </tr>\n",
       "    <tr>\n",
       "      <th>4</th>\n",
       "      <td>0.08</td>\n",
       "      <td>3.28</td>\n",
       "      <td>2.31</td>\n",
       "      <td>0.56</td>\n",
       "      <td>-24.0300</td>\n",
       "      <td>7</td>\n",
       "      <td>22.23</td>\n",
       "      <td>21.1232</td>\n",
       "    </tr>\n",
       "  </tbody>\n",
       "</table>\n",
       "</div>"
      ],
      "text/plain": [
       "   Discount  Unit Price  Shipping Cost  Product Base Margin     Profit  \\\n",
       "0      0.01        2.84           0.93                 0.54     4.5600   \n",
       "1      0.02      500.98          26.00                 0.60  4390.3665   \n",
       "2      0.06        9.48           7.29                 0.45   -53.8096   \n",
       "3      0.09       78.69          19.99                 0.43   803.4705   \n",
       "4      0.08        3.28           2.31                 0.56   -24.0300   \n",
       "\n",
       "   Quantity ordered new    Sales  disc_total  \n",
       "0                     4    13.01     11.2464  \n",
       "1                    12  6362.85   5891.5248  \n",
       "2                    22   211.15    196.0464  \n",
       "3                    16  1164.45   1145.7264  \n",
       "4                     7    22.23     21.1232  "
      ]
     },
     "execution_count": 13,
     "metadata": {},
     "output_type": "execute_result"
    }
   ],
   "source": [
    "# make a calc column to check if other rows add up\n",
    "money['disc_total'] = money['Unit Price'] * money['Quantity ordered new'] * (1 - money['Discount']) \n",
    "money.head()"
   ]
  },
  {
   "cell_type": "code",
   "execution_count": 14,
   "metadata": {},
   "outputs": [],
   "source": [
    "# Nope, will need more info about the data collected."
   ]
  },
  {
   "cell_type": "markdown",
   "metadata": {},
   "source": [
    "## Pick out which columns belong to each table"
   ]
  },
  {
   "cell_type": "code",
   "execution_count": 15,
   "metadata": {},
   "outputs": [],
   "source": [
    "# Table 1: Orders\n",
    "table1 = ['Row ID',\n",
    "'Order Priority',\n",
    "'Discount', \n",
    "'Shipping Cost',\n",
    "'Customer ID', \n",
    "'Customer Segment', # not unique to customer_id- depends on order          \n",
    "'Ship Mode', \n",
    "'PRODUCT_ID', #(window over Product name)\n",
    "'ADDRESS_ID', # (window over address)\n",
    "'Order Date', \n",
    "'Ship Date', \n",
    "'Profit', \n",
    "'Quantity ordered new', \n",
    "'Sales', \n",
    "'Order ID' ]"
   ]
  },
  {
   "cell_type": "code",
   "execution_count": 16,
   "metadata": {},
   "outputs": [],
   "source": [
    "# Table 2: Customer \n",
    "table2 = ['Customer ID', \n",
    "'Customer Name']"
   ]
  },
  {
   "cell_type": "code",
   "execution_count": 17,
   "metadata": {},
   "outputs": [],
   "source": [
    "# Table 3: Address \n",
    "table3 = ['ADDRESS_ID'\n",
    "'Country', \n",
    "'Region',\n",
    "'State or Province', \n",
    "'City', \n",
    "'Postal Code',\n",
    "'Customer ID']"
   ]
  },
  {
   "cell_type": "code",
   "execution_count": 18,
   "metadata": {},
   "outputs": [],
   "source": [
    "# Table 4: Product\n",
    "table4 = ['PRODUCT ID', \n",
    "'Unit Price', \n",
    "'Product Category', \n",
    "'Product Sub-Category', \n",
    "'Product Container',\n",
    "'Product Name', \n",
    "'Product Base Margin']"
   ]
  },
  {
   "cell_type": "markdown",
   "metadata": {},
   "source": [
    "# Normalize database"
   ]
  },
  {
   "cell_type": "code",
   "execution_count": 19,
   "metadata": {},
   "outputs": [
    {
     "data": {
      "text/plain": [
       "1    859\n",
       "2    114\n",
       "3      7\n",
       "4      4\n",
       "6      1\n",
       "Name: Customer ID, dtype: int64"
      ]
     },
     "execution_count": 19,
     "metadata": {},
     "output_type": "execute_result"
    }
   ],
   "source": [
    "# even full address isn't unique, so need customer_id in DISTINCT \n",
    "orders.groupby(['Country', 'Region', 'State or Province', 'City', 'Postal Code'])['Customer ID'].nunique().value_counts()"
   ]
  },
  {
   "cell_type": "code",
   "execution_count": 20,
   "metadata": {},
   "outputs": [
    {
     "data": {
      "text/plain": [
       "1    859\n",
       "2    114\n",
       "3      7\n",
       "4      4\n",
       "6      1\n",
       "Name: Customer ID, dtype: int64"
      ]
     },
     "execution_count": 20,
     "metadata": {},
     "output_type": "execute_result"
    }
   ],
   "source": [
    "orders.groupby(['City', 'Postal Code'])['Customer ID'].nunique().value_counts()\n",
    "# only city and postal code is not enough to distinguish"
   ]
  },
  {
   "cell_type": "code",
   "execution_count": 21,
   "metadata": {},
   "outputs": [
    {
     "data": {
      "text/html": [
       "<div>\n",
       "<style scoped>\n",
       "    .dataframe tbody tr th:only-of-type {\n",
       "        vertical-align: middle;\n",
       "    }\n",
       "\n",
       "    .dataframe tbody tr th {\n",
       "        vertical-align: top;\n",
       "    }\n",
       "\n",
       "    .dataframe thead th {\n",
       "        text-align: right;\n",
       "    }\n",
       "</style>\n",
       "<table border=\"1\" class=\"dataframe\">\n",
       "  <thead>\n",
       "    <tr style=\"text-align: right;\">\n",
       "      <th></th>\n",
       "      <th>customer_id</th>\n",
       "      <th>country</th>\n",
       "      <th>region</th>\n",
       "      <th>state</th>\n",
       "      <th>city</th>\n",
       "      <th>postal_code</th>\n",
       "      <th>address_id</th>\n",
       "    </tr>\n",
       "  </thead>\n",
       "  <tbody>\n",
       "    <tr>\n",
       "      <th>0</th>\n",
       "      <td>3</td>\n",
       "      <td>United States</td>\n",
       "      <td>West</td>\n",
       "      <td>Washington</td>\n",
       "      <td>Anacortes</td>\n",
       "      <td>98221</td>\n",
       "      <td>1</td>\n",
       "    </tr>\n",
       "    <tr>\n",
       "      <th>1</th>\n",
       "      <td>5</td>\n",
       "      <td>United States</td>\n",
       "      <td>West</td>\n",
       "      <td>California</td>\n",
       "      <td>San Gabriel</td>\n",
       "      <td>91776</td>\n",
       "      <td>2</td>\n",
       "    </tr>\n",
       "    <tr>\n",
       "      <th>2</th>\n",
       "      <td>11</td>\n",
       "      <td>United States</td>\n",
       "      <td>East</td>\n",
       "      <td>New Jersey</td>\n",
       "      <td>Roselle</td>\n",
       "      <td>7203</td>\n",
       "      <td>3</td>\n",
       "    </tr>\n",
       "    <tr>\n",
       "      <th>3</th>\n",
       "      <td>14</td>\n",
       "      <td>United States</td>\n",
       "      <td>Central</td>\n",
       "      <td>Minnesota</td>\n",
       "      <td>Prior Lake</td>\n",
       "      <td>55372</td>\n",
       "      <td>4</td>\n",
       "    </tr>\n",
       "    <tr>\n",
       "      <th>4</th>\n",
       "      <td>15</td>\n",
       "      <td>United States</td>\n",
       "      <td>East</td>\n",
       "      <td>New York</td>\n",
       "      <td>Smithtown</td>\n",
       "      <td>11787</td>\n",
       "      <td>5</td>\n",
       "    </tr>\n",
       "  </tbody>\n",
       "</table>\n",
       "</div>"
      ],
      "text/plain": [
       "   customer_id        country   region       state         city  postal_code  \\\n",
       "0            3  United States     West  Washington    Anacortes        98221   \n",
       "1            5  United States     West  California  San Gabriel        91776   \n",
       "2           11  United States     East  New Jersey      Roselle         7203   \n",
       "3           14  United States  Central   Minnesota   Prior Lake        55372   \n",
       "4           15  United States     East    New York    Smithtown        11787   \n",
       "\n",
       "   address_id  \n",
       "0           1  \n",
       "1           2  \n",
       "2           3  \n",
       "3           4  \n",
       "4           5  "
      ]
     },
     "execution_count": 21,
     "metadata": {},
     "output_type": "execute_result"
    }
   ],
   "source": [
    "# use all cols to create ADDRESS_ID \n",
    "pd.read_sql_query('''\n",
    "SELECT *, row_number() OVER (ORDER BY customer_id) AS ADDRESS_ID\n",
    "FROM  (SELECT DISTINCT customer_id, country, region, state, city, postal_code \n",
    "FROM orders\n",
    "ORDER BY customer_id) s\n",
    "LIMIT 5\n",
    "''', conn)"
   ]
  },
  {
   "cell_type": "code",
   "execution_count": 22,
   "metadata": {},
   "outputs": [
    {
     "data": {
      "text/plain": [
       "1    913\n",
       "Name: Product Category, dtype: int64"
      ]
     },
     "execution_count": 22,
     "metadata": {},
     "output_type": "execute_result"
    }
   ],
   "source": [
    "# double check products are not under two categories for some reason\n",
    "orders.groupby('Product Name')['Product Category'].nunique().value_counts()"
   ]
  },
  {
   "cell_type": "markdown",
   "metadata": {},
   "source": [
    "1. Product_base_margin can be diff for the same name product  \n",
    "Ex. 'Keytronic 105-Key Spanish Keyboard'\n",
    "\n",
    "2. 'Metal Folding Chairs, Beige, 4/Carton' possible error  \n",
    "Unit price have a magnitude difference despite same text description\n",
    "3. Figured out after initially trying only product_category and product_name.  \n",
    "927 vs 913 rows with all columns used, so only 14 items with issues\n",
    "\n",
    "4. Going to select distinct all relevant columns for now. With a real dataset, I would try to ask for more information and try to clean up the errors since in theory, these columns ought to be be unique to the product."
   ]
  },
  {
   "cell_type": "code",
   "execution_count": 23,
   "metadata": {},
   "outputs": [],
   "source": [
    "# see if query for PRODUCT ID works\n",
    "prods = pd.read_sql_query('''\n",
    "SELECT *, row_number() OVER (ORDER BY product_name, unit_price, product_base_margin) AS PRODUCT_ID\n",
    "FROM  (SELECT DISTINCT unit_price,\n",
    "                        product_category, \n",
    "                        product_subcategory,\n",
    "                        product_container,\n",
    "                        product_name, \n",
    "                        product_base_margin\n",
    "FROM orders\n",
    "ORDER BY product_category, product_name) s\n",
    "\n",
    "''', conn)"
   ]
  },
  {
   "cell_type": "code",
   "execution_count": 24,
   "metadata": {},
   "outputs": [
    {
     "data": {
      "text/plain": [
       "927"
      ]
     },
     "execution_count": 24,
     "metadata": {},
     "output_type": "execute_result"
    }
   ],
   "source": [
    "len(prods)"
   ]
  },
  {
   "cell_type": "code",
   "execution_count": 25,
   "metadata": {},
   "outputs": [
    {
     "data": {
      "text/plain": [
       "unit_price  product_category  product_subcategory             product_container  product_name                                                                 product_base_margin\n",
       "1.14        Office Supplies   Rubber Bands                    Wrap Bag           OIC Thumb-Tacks                                                              0.38                   1\n",
       "1.26        Office Supplies   Rubber Bands                    Wrap Bag           Bagged Rubber Bands                                                          0.81                   1\n",
       "1.48        Office Supplies   Rubber Bands                    Wrap Bag           Binder Clips by OIC                                                          0.37                   1\n",
       "1.60        Office Supplies   Pens & Art Supplies             Wrap Bag           Sanford Pocket Accent® Highlighters                                          0.42                   1\n",
       "1.68        Office Supplies   Pens & Art Supplies             Wrap Bag           Newell 308                                                                   0.60                   1\n",
       "                                                                                 Newell 323                                                                   0.59                   1\n",
       "                                                                                 Prang Dustless Chalk Sticks                                                  0.35                   1\n",
       "1.70        Technology        Computer Peripherals            Small Pack         BASF Silver 74 Minute CD-R                                                   0.51                   1\n",
       "1.74        Furniture         Office Furnishings              Small Pack         Eldon Regeneration Recycled Desk Accessories, Smoke                          0.53                   1\n",
       "1.76        Furniture         Office Furnishings              Small Box          Regeneration Desk Collection                                                 0.41                   1\n",
       "            Office Supplies   Pens & Art Supplies             Wrap Bag           Newell 310                                                                   0.56                   1\n",
       "                                                                                 Newell 326                                                                   0.56                   1\n",
       "1.81        Furniture         Chairs & Chairmats              Jumbo Drum         Metal Folding Chairs, Beige, 4/Carton                                        0.58                   1\n",
       "            Office Supplies   Rubber Bands                    Wrap Bag           Assorted Color Push Pins                                                     0.52                   1\n",
       "1.82        Office Supplies   Pens & Art Supplies             Wrap Bag           Newell 307                                                                   0.57                   1\n",
       "1.86        Office Supplies   Rubber Bands                    Wrap Bag           Super Bands, 12/Pack                                                         0.82                   1\n",
       "1.88        Office Supplies   Binders and Binder Accessories  Small Box          Staples® General Use 3-Ring Binders                                          0.37                   1\n",
       "1.89        Office Supplies   Rubber Bands                    Wrap Bag           Revere Boxed Rubber Bands by Revere                                          0.83                   1\n",
       "1.98        Office Supplies   Binders and Binder Accessories  Small Box          Avery Reinforcements for Hole-Punch Pages                                    0.40                   1\n",
       "                              Rubber Bands                    Wrap Bag           Brites Rubber Bands, 1 1/2 oz. Box                                           0.83                   1\n",
       "2.08        Furniture         Office Furnishings              Small Box          Eldon® Wave Desk Accessories                                                 0.43                   1\n",
       "            Office Supplies   Binders and Binder Accessories  Small Box          Economy Binders                                                              0.36                   1\n",
       "                              Scissors, Rulers and Trimmers   Small Pack         Kleencut® Forged Office Shears by Acme United Corporation                    0.55                   1\n",
       "2.10        Office Supplies   Pens & Art Supplies             Wrap Bag           Sanford EarthWrite® Recycled Pencils, Medium Soft, #2                        0.57                   1\n",
       "2.12        Technology        Computer Peripherals            Small Pack         Fuji Slim Jewel Case CD-R                                                    0.55                   1\n",
       "2.16        Office Supplies   Binders and Binder Accessories  Small Box          Peel & Stick Add-On Corner Pockets                                           0.37                   1\n",
       "2.18        Office Supplies   Rubber Bands                    Wrap Bag           Advantus Push Pins                                                           0.44                   1\n",
       "                                                                                 Stockwell Push Pins                                                          0.52                   1\n",
       "2.21        Office Supplies   Pens & Art Supplies             Wrap Bag           Quartet Alpha® White Chalk, 12/Pack                                          0.38                   1\n",
       "2.22        Office Supplies   Appliances                      Small Box          Hoover Replacement Belt for Commercial Guardsman Heavy-Duty Upright Vacuum   0.55                   1\n",
       "                                                                                                                                                                                    ..\n",
       "499.99      Technology        Copiers and Fax                 Large Box          Sharp AL-1530CS Digital Copier                                               0.36                   1\n",
       "500.98      Furniture         Bookcases                       Jumbo Box          DMI Eclipse Executive Suite Bookcases                                        0.66                   1\n",
       "                              Chairs & Chairmats              Jumbo Drum         Global Troy™ Executive Leather Low-Back Tilter                               0.60                   1\n",
       "            Technology        Office Machines                 Jumbo Drum         Hewlett-Packard cp1700 [D, PS] Series Color Inkjet Printers                  0.38                   1\n",
       "510.14      Technology        Office Machines                 Jumbo Drum         Okidata ML520 Series Dot Matrix Printers                                     0.56                   1\n",
       "517.48      Technology        Office Machines                 Jumbo Box          Panasonic KX-P3626 Dot Matrix Printer                                        0.59                   1\n",
       "525.98      Office Supplies   Binders and Binder Accessories  Small Box          GBC DocuBind 300 Electric Binding Machine                                    0.37                   1\n",
       "535.64      Technology        Office Machines                 Jumbo Drum         Epson LQ-870 Dot Matrix Printer                                              0.59                   1\n",
       "549.99      Technology        Copiers and Fax                 Jumbo Drum         Sharp 1540cs Digital Laser Copier                                            0.35                   1\n",
       "550.98      Furniture         Tables                          Jumbo Box          Chromcraft Bull-Nose Wood Oval Conference Tables & Bases                     0.71                   1\n",
       "574.74      Technology        Office Machines                 Large Box          Polycom ViaVideo™ Desktop Video Communications Unit                          0.37                   1\n",
       "599.99      Technology        Copiers and Fax                 Large Box          Canon Image Class D660 Copier                                                0.44                   1\n",
       "                                                                                 Canon PC1080F Personal Copier                                                0.50                   1\n",
       "                                                                                 Hewlett Packard LaserJet 3310 Copier                                         0.37                   1\n",
       "699.99      Technology        Copiers and Fax                 Large Box          Canon Imageclass D680 Copier / Fax                                           0.54                   1\n",
       "                                                                                 Canon PC1060 Personal Laser Copier                                           0.41                   1\n",
       "808.49      Technology        Office Machines                 Jumbo Drum         Hewlett-Packard Business Color Inkjet 3000 [N, DTN] Series Printers          0.40                   1\n",
       "880.98      Furniture         Bookcases                       Jumbo Box          Riverside Palais Royal Lawyers Bookcase, Royale Cherry Finish                0.62                   1\n",
       "896.99      Office Supplies   Binders and Binder Accessories  Small Box          GBC DocuBind TL300 Electric Binding System                                   0.38                   1\n",
       "999.99      Technology        Office Machines                 Medium Box         Polycom Soundstation EX Audio-Conferencing Telephone, Black                  0.36                   1\n",
       "1270.99     Office Supplies   Binders and Binder Accessories  Small Box          Fellowes PB500 Electric Punch Plastic Comb Binding Machine with Manual Bind  0.35                   1\n",
       "1360.14     Technology        Office Machines                 Jumbo Drum         Okidata ML395C Color Dot Matrix Printer                                      0.59                   1\n",
       "1500.97     Technology        Office Machines                 Jumbo Drum         Epson DFX5000+ Dot Matrix Printer                                            0.57                   1\n",
       "1637.53     Office Supplies   Scissors, Rulers and Trimmers   Medium Box         High Speed Automatic Electric Letter Opener                                  0.81                   1\n",
       "1889.99     Office Supplies   Binders and Binder Accessories  Small Box          Ibico EPK-21 Electric Binding System                                         0.36                   1\n",
       "2036.48     Technology        Office Machines                 Jumbo Drum         Lexmark 4227 Plus Dot Matrix Printer                                         0.55                   1\n",
       "2550.14     Technology        Office Machines                 Jumbo Drum         Epson DFX-8500 Dot Matrix Printer                                            0.57                   1\n",
       "3499.99     Technology        Copiers and Fax                 Large Box          Canon imageCLASS 2200 Advanced Copier                                        0.37                   1\n",
       "3502.14     Technology        Office Machines                 Jumbo Box          Okidata Pacemark 4410N Wide Format Dot Matrix Printer                        0.57                   1\n",
       "6783.02     Technology        Office Machines                 Large Box          Polycom ViewStation™ ISDN Videoconferencing Unit                             0.39                   1\n",
       "Name: product_id, Length: 927, dtype: int64"
      ]
     },
     "execution_count": 25,
     "metadata": {},
     "output_type": "execute_result"
    }
   ],
   "source": [
    "prods.groupby(['unit_price',\n",
    "                        'product_category', \n",
    "                        'product_subcategory',\n",
    "                       'product_container',\n",
    "                        'product_name', \n",
    "                        'product_base_margin'])['product_id'].nunique()\n",
    "# 921"
   ]
  },
  {
   "cell_type": "code",
   "execution_count": 26,
   "metadata": {},
   "outputs": [
    {
     "data": {
      "text/html": [
       "<div>\n",
       "<style scoped>\n",
       "    .dataframe tbody tr th:only-of-type {\n",
       "        vertical-align: middle;\n",
       "    }\n",
       "\n",
       "    .dataframe tbody tr th {\n",
       "        vertical-align: top;\n",
       "    }\n",
       "\n",
       "    .dataframe thead th {\n",
       "        text-align: right;\n",
       "    }\n",
       "</style>\n",
       "<table border=\"1\" class=\"dataframe\">\n",
       "  <thead>\n",
       "    <tr style=\"text-align: right;\">\n",
       "      <th></th>\n",
       "      <th>unit_price</th>\n",
       "      <th>product_category</th>\n",
       "      <th>product_subcategory</th>\n",
       "      <th>product_container</th>\n",
       "      <th>product_name</th>\n",
       "      <th>product_base_margin</th>\n",
       "      <th>product_id</th>\n",
       "    </tr>\n",
       "  </thead>\n",
       "  <tbody>\n",
       "    <tr>\n",
       "      <th>0</th>\n",
       "      <td>15.74</td>\n",
       "      <td>Office Supplies</td>\n",
       "      <td>Envelopes</td>\n",
       "      <td>Small Box</td>\n",
       "      <td>#10-4 1/8\" x 9 1/2\" Premium Diagonal Seam Enve...</td>\n",
       "      <td>0.40</td>\n",
       "      <td>1</td>\n",
       "    </tr>\n",
       "    <tr>\n",
       "      <th>1</th>\n",
       "      <td>8.74</td>\n",
       "      <td>Office Supplies</td>\n",
       "      <td>Envelopes</td>\n",
       "      <td>Small Box</td>\n",
       "      <td>#10- 4 1/8\" x 9 1/2\" Recycled Envelopes</td>\n",
       "      <td>0.38</td>\n",
       "      <td>2</td>\n",
       "    </tr>\n",
       "    <tr>\n",
       "      <th>2</th>\n",
       "      <td>7.64</td>\n",
       "      <td>Office Supplies</td>\n",
       "      <td>Envelopes</td>\n",
       "      <td>Small Box</td>\n",
       "      <td>#10- 4 1/8\" x 9 1/2\" Security-Tint Envelopes</td>\n",
       "      <td>0.36</td>\n",
       "      <td>3</td>\n",
       "    </tr>\n",
       "    <tr>\n",
       "      <th>3</th>\n",
       "      <td>15.67</td>\n",
       "      <td>Office Supplies</td>\n",
       "      <td>Envelopes</td>\n",
       "      <td>Small Box</td>\n",
       "      <td>#10 White Business Envelopes,4 1/8 x 9 1/2</td>\n",
       "      <td>0.38</td>\n",
       "      <td>4</td>\n",
       "    </tr>\n",
       "    <tr>\n",
       "      <th>4</th>\n",
       "      <td>19.98</td>\n",
       "      <td>Furniture</td>\n",
       "      <td>Office Furnishings</td>\n",
       "      <td>Small Box</td>\n",
       "      <td>12-1/2 Diameter Round Wall Clock</td>\n",
       "      <td>0.49</td>\n",
       "      <td>5</td>\n",
       "    </tr>\n",
       "  </tbody>\n",
       "</table>\n",
       "</div>"
      ],
      "text/plain": [
       "   unit_price product_category product_subcategory product_container  \\\n",
       "0       15.74  Office Supplies           Envelopes         Small Box   \n",
       "1        8.74  Office Supplies           Envelopes         Small Box   \n",
       "2        7.64  Office Supplies           Envelopes         Small Box   \n",
       "3       15.67  Office Supplies           Envelopes         Small Box   \n",
       "4       19.98        Furniture  Office Furnishings         Small Box   \n",
       "\n",
       "                                        product_name  product_base_margin  \\\n",
       "0  #10-4 1/8\" x 9 1/2\" Premium Diagonal Seam Enve...                 0.40   \n",
       "1            #10- 4 1/8\" x 9 1/2\" Recycled Envelopes                 0.38   \n",
       "2       #10- 4 1/8\" x 9 1/2\" Security-Tint Envelopes                 0.36   \n",
       "3         #10 White Business Envelopes,4 1/8 x 9 1/2                 0.38   \n",
       "4                   12-1/2 Diameter Round Wall Clock                 0.49   \n",
       "\n",
       "   product_id  \n",
       "0           1  \n",
       "1           2  \n",
       "2           3  \n",
       "3           4  \n",
       "4           5  "
      ]
     },
     "execution_count": 26,
     "metadata": {},
     "output_type": "execute_result"
    }
   ],
   "source": [
    "prods.head()"
   ]
  },
  {
   "cell_type": "code",
   "execution_count": 27,
   "metadata": {},
   "outputs": [],
   "source": [
    "# LEFT JOIN TO see where nulls are popping up\n",
    "nulls = pd.read_sql_query('''SELECT o.*,  p.product_id\n",
    "FROM orders o\n",
    "LEFT JOIN (SELECT *, row_number() OVER (ORDER BY product_name) AS PRODUCT_ID\n",
    "            FROM  (SELECT DISTINCT unit_price,\n",
    "                    product_category, \n",
    "                    product_subcategory,\n",
    "                    product_container,\n",
    "                    product_name, \n",
    "                    product_base_margin\n",
    "            FROM orders\n",
    "            ORDER BY product_category, product_name) s\n",
    "        ) p\n",
    "ON o.product_category = p.product_category\n",
    "AND o.product_subcategory = p.product_subcategory\n",
    "AND o.product_container = p.product_container\n",
    "AND o.product_name = p.product_name\n",
    "AND o.product_base_margin = p.product_base_margin\n",
    "AND o.unit_price = p.unit_price ''', conn)"
   ]
  },
  {
   "cell_type": "code",
   "execution_count": 28,
   "metadata": {},
   "outputs": [
    {
     "data": {
      "text/html": [
       "<div>\n",
       "<style scoped>\n",
       "    .dataframe tbody tr th:only-of-type {\n",
       "        vertical-align: middle;\n",
       "    }\n",
       "\n",
       "    .dataframe tbody tr th {\n",
       "        vertical-align: top;\n",
       "    }\n",
       "\n",
       "    .dataframe thead th {\n",
       "        text-align: right;\n",
       "    }\n",
       "</style>\n",
       "<table border=\"1\" class=\"dataframe\">\n",
       "  <thead>\n",
       "    <tr style=\"text-align: right;\">\n",
       "      <th></th>\n",
       "      <th>Row ID</th>\n",
       "      <th>Order Priority</th>\n",
       "      <th>Discount</th>\n",
       "      <th>Unit Price</th>\n",
       "      <th>Shipping Cost</th>\n",
       "      <th>Customer ID</th>\n",
       "      <th>Customer Name</th>\n",
       "      <th>Ship Mode</th>\n",
       "      <th>Customer Segment</th>\n",
       "      <th>Product Category</th>\n",
       "      <th>Product Sub-Category</th>\n",
       "      <th>Product Container</th>\n",
       "      <th>Product Name</th>\n",
       "      <th>Product Base Margin</th>\n",
       "      <th>Country</th>\n",
       "      <th>Region</th>\n",
       "      <th>State or Province</th>\n",
       "      <th>City</th>\n",
       "      <th>Postal Code</th>\n",
       "      <th>Order Date</th>\n",
       "      <th>Ship Date</th>\n",
       "      <th>Profit</th>\n",
       "      <th>Quantity ordered new</th>\n",
       "      <th>Sales</th>\n",
       "      <th>Order ID</th>\n",
       "    </tr>\n",
       "  </thead>\n",
       "  <tbody>\n",
       "    <tr>\n",
       "      <th>734</th>\n",
       "      <td>22125</td>\n",
       "      <td>Low</td>\n",
       "      <td>0.10</td>\n",
       "      <td>238.40</td>\n",
       "      <td>24.49</td>\n",
       "      <td>1281</td>\n",
       "      <td>Pauline Denton</td>\n",
       "      <td>Regular Air</td>\n",
       "      <td>Small Business</td>\n",
       "      <td>Furniture</td>\n",
       "      <td>Chairs &amp; Chairmats</td>\n",
       "      <td>Large Box</td>\n",
       "      <td>Safco Contoured Stacking Chairs</td>\n",
       "      <td>NaN</td>\n",
       "      <td>United States</td>\n",
       "      <td>Central</td>\n",
       "      <td>Indiana</td>\n",
       "      <td>Vincennes</td>\n",
       "      <td>47591</td>\n",
       "      <td>2015-01-24</td>\n",
       "      <td>2015-01-26</td>\n",
       "      <td>875.2844</td>\n",
       "      <td>8</td>\n",
       "      <td>1774.50</td>\n",
       "      <td>89112</td>\n",
       "    </tr>\n",
       "    <tr>\n",
       "      <th>735</th>\n",
       "      <td>22126</td>\n",
       "      <td>Low</td>\n",
       "      <td>0.03</td>\n",
       "      <td>199.99</td>\n",
       "      <td>24.49</td>\n",
       "      <td>1281</td>\n",
       "      <td>Pauline Denton</td>\n",
       "      <td>Express Air</td>\n",
       "      <td>Small Business</td>\n",
       "      <td>Technology</td>\n",
       "      <td>Copiers and Fax</td>\n",
       "      <td>Large Box</td>\n",
       "      <td>Canon PC-428 Personal Copier</td>\n",
       "      <td>0.46</td>\n",
       "      <td>United States</td>\n",
       "      <td>Central</td>\n",
       "      <td>Indiana</td>\n",
       "      <td>Vincennes</td>\n",
       "      <td>47591</td>\n",
       "      <td>2015-01-24</td>\n",
       "      <td>2015-01-26</td>\n",
       "      <td>727.7361</td>\n",
       "      <td>5</td>\n",
       "      <td>1054.69</td>\n",
       "      <td>89112</td>\n",
       "    </tr>\n",
       "  </tbody>\n",
       "</table>\n",
       "</div>"
      ],
      "text/plain": [
       "     Row ID Order Priority  Discount  Unit Price  Shipping Cost  Customer ID  \\\n",
       "734   22125            Low      0.10      238.40          24.49         1281   \n",
       "735   22126            Low      0.03      199.99          24.49         1281   \n",
       "\n",
       "      Customer Name    Ship Mode Customer Segment Product Category  \\\n",
       "734  Pauline Denton  Regular Air   Small Business        Furniture   \n",
       "735  Pauline Denton  Express Air   Small Business       Technology   \n",
       "\n",
       "    Product Sub-Category Product Container                     Product Name  \\\n",
       "734   Chairs & Chairmats         Large Box  Safco Contoured Stacking Chairs   \n",
       "735      Copiers and Fax         Large Box     Canon PC-428 Personal Copier   \n",
       "\n",
       "     Product Base Margin        Country   Region State or Province       City  \\\n",
       "734                  NaN  United States  Central           Indiana  Vincennes   \n",
       "735                 0.46  United States  Central           Indiana  Vincennes   \n",
       "\n",
       "     Postal Code  Order Date   Ship Date    Profit  Quantity ordered new  \\\n",
       "734        47591  2015-01-24  2015-01-26  875.2844                     8   \n",
       "735        47591  2015-01-24  2015-01-26  727.7361                     5   \n",
       "\n",
       "       Sales  Order ID  \n",
       "734  1774.50     89112  \n",
       "735  1054.69     89112  "
      ]
     },
     "execution_count": 28,
     "metadata": {},
     "output_type": "execute_result"
    }
   ],
   "source": [
    "orders[orders['Customer ID'] == 1281] \n",
    "# turns out there are NaNs in product_base_margin"
   ]
  },
  {
   "cell_type": "code",
   "execution_count": 29,
   "metadata": {},
   "outputs": [
    {
     "data": {
      "text/plain": [
       "16"
      ]
     },
     "execution_count": 29,
     "metadata": {},
     "output_type": "execute_result"
    }
   ],
   "source": [
    "len(orders[orders['Product Base Margin'].isnull()]) # all are in product_base_margin"
   ]
  },
  {
   "cell_type": "code",
   "execution_count": 30,
   "metadata": {},
   "outputs": [],
   "source": [
    "#nulls[nulls['product_base_margin'].isnull()]"
   ]
  },
  {
   "cell_type": "markdown",
   "metadata": {},
   "source": [
    "### IMPORTANT: FILL NULLS with 0 in original table orders"
   ]
  },
  {
   "cell_type": "code",
   "execution_count": 31,
   "metadata": {},
   "outputs": [],
   "source": [
    "# conn.execute('''\n",
    "# UPDATE orders\n",
    "# SET product_base_margin = 0\n",
    "# WHERE product_base_margin IS NULL''')"
   ]
  },
  {
   "cell_type": "code",
   "execution_count": 32,
   "metadata": {},
   "outputs": [
    {
     "data": {
      "text/html": [
       "<div>\n",
       "<style scoped>\n",
       "    .dataframe tbody tr th:only-of-type {\n",
       "        vertical-align: middle;\n",
       "    }\n",
       "\n",
       "    .dataframe tbody tr th {\n",
       "        vertical-align: top;\n",
       "    }\n",
       "\n",
       "    .dataframe thead th {\n",
       "        text-align: right;\n",
       "    }\n",
       "</style>\n",
       "<table border=\"1\" class=\"dataframe\">\n",
       "  <thead>\n",
       "    <tr style=\"text-align: right;\">\n",
       "      <th></th>\n",
       "      <th>count</th>\n",
       "    </tr>\n",
       "  </thead>\n",
       "  <tbody>\n",
       "    <tr>\n",
       "      <th>0</th>\n",
       "      <td>1952</td>\n",
       "    </tr>\n",
       "  </tbody>\n",
       "</table>\n",
       "</div>"
      ],
      "text/plain": [
       "   count\n",
       "0   1952"
      ]
     },
     "execution_count": 32,
     "metadata": {},
     "output_type": "execute_result"
    }
   ],
   "source": [
    "# join these new id cols to original table\n",
    "pd.read_sql_query('''\n",
    "SELECT count(*) --o.*, a.address_id, p.product_id\n",
    "FROM orders o\n",
    "JOIN (SELECT *, row_number() OVER (ORDER BY customer_id) AS ADDRESS_ID\n",
    "        FROM  (SELECT DISTINCT customer_id, country, region, state, city, postal_code \n",
    "                FROM orders\n",
    "                ORDER BY customer_id) s\n",
    "        ) a\n",
    "ON o.customer_id = a.customer_id\n",
    "    AND o.city = a.city\n",
    "    AND o.postal_code = a.postal_code \n",
    "-- for completeness, should do JOIN ON all, but this gets unique enough for this data even if a person has two addresses\n",
    "JOIN (SELECT *, row_number() OVER (ORDER BY product_name) AS PRODUCT_ID\n",
    "            FROM  (SELECT DISTINCT unit_price,\n",
    "                    product_category, \n",
    "                    product_subcategory,\n",
    "                    product_container,\n",
    "                    product_name, \n",
    "                    product_base_margin\n",
    "            FROM orders\n",
    "            ORDER BY product_category, product_name) s\n",
    "        ) p\n",
    "ON o.product_category = p.product_category\n",
    "AND o.product_name = p.product_name\n",
    "AND o.product_base_margin = p.product_base_margin\n",
    "AND o.unit_price = p.unit_price\n",
    "''', conn)\n",
    "# note get all 1952 rows now"
   ]
  },
  {
   "cell_type": "code",
   "execution_count": 33,
   "metadata": {},
   "outputs": [
    {
     "data": {
      "text/plain": [
       "<sqlalchemy.engine.result.ResultProxy at 0x7fb1cd0775c0>"
      ]
     },
     "execution_count": 33,
     "metadata": {},
     "output_type": "execute_result"
    }
   ],
   "source": [
    "# CREATE VIEW of full table with new cols\n",
    "conn.execute('''CREATE OR REPLACE VIEW full_orders AS \n",
    "(SELECT o.*, a.address_id, p.product_id\n",
    "FROM orders o\n",
    "JOIN (SELECT *, row_number() OVER (ORDER BY customer_id) AS ADDRESS_ID\n",
    "        FROM  (SELECT DISTINCT customer_id, country, region, state, city, postal_code \n",
    "                FROM orders\n",
    "                ORDER BY customer_id) s\n",
    "        ) a\n",
    "ON o.customer_id = a.customer_id\n",
    "    AND o.city = a.city\n",
    "    AND o.postal_code = a.postal_code \n",
    "-- for completeness, should do JOIN ON all, but this gets unique enough for this data even if a person has two addresses\n",
    "JOIN (SELECT *, row_number() OVER (ORDER BY product_name) AS PRODUCT_ID\n",
    "            FROM  (SELECT DISTINCT unit_price,\n",
    "                    product_category, \n",
    "                    product_subcategory,\n",
    "                    product_container,\n",
    "                    product_name, \n",
    "                    product_base_margin\n",
    "            FROM orders\n",
    "            ORDER BY product_category, product_name) s\n",
    "        ) p\n",
    "ON o.product_category = p.product_category\n",
    "AND o.product_name = p.product_name\n",
    "AND o.product_base_margin = p.product_base_margin\n",
    "AND o.unit_price = p.unit_price)''')"
   ]
  },
  {
   "cell_type": "code",
   "execution_count": 34,
   "metadata": {},
   "outputs": [
    {
     "data": {
      "text/html": [
       "<div>\n",
       "<style scoped>\n",
       "    .dataframe tbody tr th:only-of-type {\n",
       "        vertical-align: middle;\n",
       "    }\n",
       "\n",
       "    .dataframe tbody tr th {\n",
       "        vertical-align: top;\n",
       "    }\n",
       "\n",
       "    .dataframe thead th {\n",
       "        text-align: right;\n",
       "    }\n",
       "</style>\n",
       "<table border=\"1\" class=\"dataframe\">\n",
       "  <thead>\n",
       "    <tr style=\"text-align: right;\">\n",
       "      <th></th>\n",
       "      <th>count</th>\n",
       "    </tr>\n",
       "  </thead>\n",
       "  <tbody>\n",
       "    <tr>\n",
       "      <th>0</th>\n",
       "      <td>1952</td>\n",
       "    </tr>\n",
       "  </tbody>\n",
       "</table>\n",
       "</div>"
      ],
      "text/plain": [
       "   count\n",
       "0   1952"
      ]
     },
     "execution_count": 34,
     "metadata": {},
     "output_type": "execute_result"
    }
   ],
   "source": [
    "pd.read_sql_query(\"SELECT COUNT(*) FROM full_orders\", conn)"
   ]
  },
  {
   "cell_type": "markdown",
   "metadata": {},
   "source": [
    "With view full_orders created, now create the 4 tables and insert the appropriate columns to populate each table."
   ]
  },
  {
   "cell_type": "markdown",
   "metadata": {},
   "source": [
    "### Table 1: norm_orders"
   ]
  },
  {
   "cell_type": "code",
   "execution_count": 35,
   "metadata": {},
   "outputs": [
    {
     "data": {
      "text/plain": [
       "<sqlalchemy.engine.result.ResultProxy at 0x7fb1cd077710>"
      ]
     },
     "execution_count": 35,
     "metadata": {},
     "output_type": "execute_result"
    }
   ],
   "source": [
    "conn.execute('''\n",
    "CREATE TABLE IF NOT EXISTS norm_orders(\n",
    "row_id INTEGER,\n",
    "order_priority TEXT,\n",
    "discount REAL,\n",
    "shipping_cost REAL,\n",
    "customer_id INTEGER,\n",
    "customer_segment TEXT,\n",
    "ship_mode TEXT,\n",
    "product_id INTEGER,\n",
    "address_id INTEGER,\n",
    "order_date TIMESTAMP,\n",
    "ship_date TIMESTAMP,\n",
    "profit REAL,\n",
    "quantity_ordered_new INTEGER,\n",
    "sales REAL,\n",
    "order_id INTEGER);\n",
    "''')"
   ]
  },
  {
   "cell_type": "code",
   "execution_count": 36,
   "metadata": {},
   "outputs": [],
   "source": [
    "# # insert appropriate columns\n",
    "# conn.execute('''\n",
    "# INSERT INTO norm_orders\n",
    "#     SELECT row_id,\n",
    "#         order_priority,\n",
    "#         discount,\n",
    "#         shipping_cost,\n",
    "#         customer_id,\n",
    "#         customer_segment,\n",
    "#         ship_mode,\n",
    "#         product_id ,\n",
    "#         address_id ,\n",
    "#         order_date,\n",
    "#         ship_date,\n",
    "#         profit,\n",
    "#         quantity_ordered_new,\n",
    "#         sales,\n",
    "#         order_id\n",
    "#     FROM full_orders''')"
   ]
  },
  {
   "cell_type": "markdown",
   "metadata": {},
   "source": [
    "### Table 2: customers"
   ]
  },
  {
   "cell_type": "code",
   "execution_count": 37,
   "metadata": {},
   "outputs": [
    {
     "data": {
      "text/plain": [
       "<sqlalchemy.engine.result.ResultProxy at 0x7fb1cd0777b8>"
      ]
     },
     "execution_count": 37,
     "metadata": {},
     "output_type": "execute_result"
    }
   ],
   "source": [
    "conn.execute('''\n",
    "CREATE TABLE IF NOT EXISTS customers(\n",
    "customer_id INTEGER NOT NULL,\n",
    "customer_name TEXT,\n",
    "PRIMARY KEY (customer_id));\n",
    "''')"
   ]
  },
  {
   "cell_type": "code",
   "execution_count": 38,
   "metadata": {},
   "outputs": [],
   "source": [
    "# conn.execute('''\n",
    "# INSERT INTO customers\n",
    "#     SELECT DISTINCT customer_id,\n",
    "#         customer_name\n",
    "#     FROM full_orders''')"
   ]
  },
  {
   "cell_type": "code",
   "execution_count": 39,
   "metadata": {},
   "outputs": [
    {
     "data": {
      "text/html": [
       "<div>\n",
       "<style scoped>\n",
       "    .dataframe tbody tr th:only-of-type {\n",
       "        vertical-align: middle;\n",
       "    }\n",
       "\n",
       "    .dataframe tbody tr th {\n",
       "        vertical-align: top;\n",
       "    }\n",
       "\n",
       "    .dataframe thead th {\n",
       "        text-align: right;\n",
       "    }\n",
       "</style>\n",
       "<table border=\"1\" class=\"dataframe\">\n",
       "  <thead>\n",
       "    <tr style=\"text-align: right;\">\n",
       "      <th></th>\n",
       "      <th>Row ID</th>\n",
       "      <th>Order Priority</th>\n",
       "      <th>Discount</th>\n",
       "      <th>Unit Price</th>\n",
       "      <th>Shipping Cost</th>\n",
       "      <th>Customer ID</th>\n",
       "      <th>Customer Name</th>\n",
       "      <th>Ship Mode</th>\n",
       "      <th>Customer Segment</th>\n",
       "      <th>Product Category</th>\n",
       "      <th>Product Sub-Category</th>\n",
       "      <th>Product Container</th>\n",
       "      <th>Product Name</th>\n",
       "      <th>Product Base Margin</th>\n",
       "      <th>Country</th>\n",
       "      <th>Region</th>\n",
       "      <th>State or Province</th>\n",
       "      <th>City</th>\n",
       "      <th>Postal Code</th>\n",
       "      <th>Order Date</th>\n",
       "      <th>Ship Date</th>\n",
       "      <th>Profit</th>\n",
       "      <th>Quantity ordered new</th>\n",
       "      <th>Sales</th>\n",
       "      <th>Order ID</th>\n",
       "    </tr>\n",
       "  </thead>\n",
       "  <tbody>\n",
       "    <tr>\n",
       "      <th>856</th>\n",
       "      <td>24974</td>\n",
       "      <td>Critical</td>\n",
       "      <td>0.03</td>\n",
       "      <td>30.98</td>\n",
       "      <td>8.99</td>\n",
       "      <td>1527</td>\n",
       "      <td>Neil Parker</td>\n",
       "      <td>Express Air</td>\n",
       "      <td>Small Business</td>\n",
       "      <td>Office Supplies</td>\n",
       "      <td>Pens &amp; Art Supplies</td>\n",
       "      <td>Small Pack</td>\n",
       "      <td>Boston School Pro Electric Pencil Sharpener, 1670</td>\n",
       "      <td>0.58</td>\n",
       "      <td>United States</td>\n",
       "      <td>South</td>\n",
       "      <td>Alabama</td>\n",
       "      <td>Decatur</td>\n",
       "      <td>35601</td>\n",
       "      <td>2015-01-09</td>\n",
       "      <td>2015-01-11</td>\n",
       "      <td>0.510</td>\n",
       "      <td>5</td>\n",
       "      <td>162.39</td>\n",
       "      <td>86813</td>\n",
       "    </tr>\n",
       "    <tr>\n",
       "      <th>857</th>\n",
       "      <td>22253</td>\n",
       "      <td>Low</td>\n",
       "      <td>0.03</td>\n",
       "      <td>65.99</td>\n",
       "      <td>5.26</td>\n",
       "      <td>1527</td>\n",
       "      <td>Neil Parker</td>\n",
       "      <td>Regular Air</td>\n",
       "      <td>Home Office</td>\n",
       "      <td>Technology</td>\n",
       "      <td>Telephones and Communication</td>\n",
       "      <td>Small Box</td>\n",
       "      <td>8860</td>\n",
       "      <td>0.56</td>\n",
       "      <td>United States</td>\n",
       "      <td>South</td>\n",
       "      <td>Alabama</td>\n",
       "      <td>Decatur</td>\n",
       "      <td>35601</td>\n",
       "      <td>2015-03-30</td>\n",
       "      <td>2015-04-09</td>\n",
       "      <td>-52.248</td>\n",
       "      <td>23</td>\n",
       "      <td>1316.03</td>\n",
       "      <td>86814</td>\n",
       "    </tr>\n",
       "    <tr>\n",
       "      <th>858</th>\n",
       "      <td>21455</td>\n",
       "      <td>Low</td>\n",
       "      <td>0.09</td>\n",
       "      <td>50.98</td>\n",
       "      <td>6.50</td>\n",
       "      <td>1527</td>\n",
       "      <td>Neil Parker</td>\n",
       "      <td>Regular Air</td>\n",
       "      <td>Home Office</td>\n",
       "      <td>Technology</td>\n",
       "      <td>Computer Peripherals</td>\n",
       "      <td>Small Box</td>\n",
       "      <td>Microsoft Natural Multimedia Keyboard</td>\n",
       "      <td>0.73</td>\n",
       "      <td>United States</td>\n",
       "      <td>South</td>\n",
       "      <td>Alabama</td>\n",
       "      <td>Decatur</td>\n",
       "      <td>35601</td>\n",
       "      <td>2015-05-21</td>\n",
       "      <td>2015-05-28</td>\n",
       "      <td>70.176</td>\n",
       "      <td>28</td>\n",
       "      <td>1395.41</td>\n",
       "      <td>86815</td>\n",
       "    </tr>\n",
       "  </tbody>\n",
       "</table>\n",
       "</div>"
      ],
      "text/plain": [
       "     Row ID Order Priority  Discount  Unit Price  Shipping Cost  Customer ID  \\\n",
       "856   24974       Critical      0.03       30.98           8.99         1527   \n",
       "857   22253            Low      0.03       65.99           5.26         1527   \n",
       "858   21455            Low      0.09       50.98           6.50         1527   \n",
       "\n",
       "    Customer Name    Ship Mode Customer Segment Product Category  \\\n",
       "856   Neil Parker  Express Air   Small Business  Office Supplies   \n",
       "857   Neil Parker  Regular Air      Home Office       Technology   \n",
       "858   Neil Parker  Regular Air      Home Office       Technology   \n",
       "\n",
       "             Product Sub-Category Product Container  \\\n",
       "856           Pens & Art Supplies        Small Pack   \n",
       "857  Telephones and Communication         Small Box   \n",
       "858          Computer Peripherals         Small Box   \n",
       "\n",
       "                                          Product Name  Product Base Margin  \\\n",
       "856  Boston School Pro Electric Pencil Sharpener, 1670                 0.58   \n",
       "857                                               8860                 0.56   \n",
       "858              Microsoft Natural Multimedia Keyboard                 0.73   \n",
       "\n",
       "           Country Region State or Province     City  Postal Code  Order Date  \\\n",
       "856  United States  South           Alabama  Decatur        35601  2015-01-09   \n",
       "857  United States  South           Alabama  Decatur        35601  2015-03-30   \n",
       "858  United States  South           Alabama  Decatur        35601  2015-05-21   \n",
       "\n",
       "      Ship Date  Profit  Quantity ordered new    Sales  Order ID  \n",
       "856  2015-01-11   0.510                     5   162.39     86813  \n",
       "857  2015-04-09 -52.248                    23  1316.03     86814  \n",
       "858  2015-05-28  70.176                    28  1395.41     86815  "
      ]
     },
     "execution_count": 39,
     "metadata": {},
     "output_type": "execute_result"
    }
   ],
   "source": [
    "orders[orders['Customer ID'] == 1527]\n",
    "# customer_id can have more than one customer_segment, so it does belong in the order table after all\n",
    "# edited cells above"
   ]
  },
  {
   "cell_type": "markdown",
   "metadata": {},
   "source": [
    "### Table 3: addresses"
   ]
  },
  {
   "cell_type": "code",
   "execution_count": 40,
   "metadata": {},
   "outputs": [
    {
     "data": {
      "text/plain": [
       "<sqlalchemy.engine.result.ResultProxy at 0x7fb1cd387fd0>"
      ]
     },
     "execution_count": 40,
     "metadata": {},
     "output_type": "execute_result"
    }
   ],
   "source": [
    "conn.execute('''\n",
    "CREATE TABLE IF NOT EXISTS addresses(\n",
    "    address_id INTEGER NOT NULL,\n",
    "    country TEXT,\n",
    "    region TEXT,\n",
    "    state TEXT,\n",
    "    city TEXT,\n",
    "    postal_code TEXT,\n",
    "    customer_id INTEGER NOT NULL,\n",
    "    FOREIGN KEY (customer_id) REFERENCES customers(customer_id),\n",
    "    PRIMARY KEY (address_id)\n",
    "    );\n",
    "''')"
   ]
  },
  {
   "cell_type": "code",
   "execution_count": 41,
   "metadata": {},
   "outputs": [],
   "source": [
    "# conn.execute('''\n",
    "# INSERT INTO addresses\n",
    "#     SELECT DISTINCT \n",
    "#         address_id,\n",
    "#         country, \n",
    "#         region,\n",
    "#         state,\n",
    "#         city,\n",
    "#         postal_code,\n",
    "#         customer_id\n",
    "#     FROM full_orders''')"
   ]
  },
  {
   "cell_type": "markdown",
   "metadata": {},
   "source": [
    "### Table 4: products"
   ]
  },
  {
   "cell_type": "code",
   "execution_count": 42,
   "metadata": {},
   "outputs": [
    {
     "data": {
      "text/plain": [
       "<sqlalchemy.engine.result.ResultProxy at 0x7fb1cd077cc0>"
      ]
     },
     "execution_count": 42,
     "metadata": {},
     "output_type": "execute_result"
    }
   ],
   "source": [
    "conn.execute('''\n",
    "CREATE TABLE IF NOT EXISTS products(\n",
    "    product_id INTEGER NOT NULL,\n",
    "    unit_price REAL,\n",
    "    product_category TEXT,\n",
    "    product_subcategory TEXT,\n",
    "    product_container TEXT,\n",
    "    product_name TEXT,\n",
    "    product_base_margin REAL,\n",
    "    PRIMARY KEY (product_id)\n",
    "    );\n",
    "''')"
   ]
  },
  {
   "cell_type": "code",
   "execution_count": 43,
   "metadata": {},
   "outputs": [],
   "source": [
    "# conn.execute('''\n",
    "# INSERT INTO products\n",
    "#     SELECT DISTINCT \n",
    "#         product_id,\n",
    "#         unit_price,\n",
    "#         product_category,\n",
    "#         product_subcategory,\n",
    "#         product_container,\n",
    "#         product_name,\n",
    "#         product_base_margin\n",
    "#     FROM full_orders''')"
   ]
  },
  {
   "cell_type": "code",
   "execution_count": 44,
   "metadata": {},
   "outputs": [],
   "source": [
    "# query used to look at errors \n",
    "# pd.read_sql_query('''\n",
    "# SELECT   product_id,\n",
    "#         unit_price,\n",
    "#         product_category,\n",
    "#         product_subcategory,\n",
    "#         product_container,\n",
    "#         product_name,\n",
    "#         product_base_margin\n",
    "#         FROM full_orders\n",
    "#         WHERE product_id = 567 ''', conn)"
   ]
  },
  {
   "cell_type": "code",
   "execution_count": 45,
   "metadata": {},
   "outputs": [],
   "source": [
    "reconstructed = pd.read_sql_query('''\n",
    "SELECT * FROM \n",
    "norm_orders n\n",
    "JOIN customers c\n",
    "ON n.customer_id = c.customer_id\n",
    "JOIN addresses a\n",
    "ON n.address_id = a.address_id\n",
    "JOIN products p\n",
    "ON n.product_id = p.product_id''', conn)"
   ]
  },
  {
   "cell_type": "code",
   "execution_count": 46,
   "metadata": {},
   "outputs": [
    {
     "data": {
      "text/plain": [
       "1952"
      ]
     },
     "execution_count": 46,
     "metadata": {},
     "output_type": "execute_result"
    }
   ],
   "source": [
    "len(reconstructed)"
   ]
  },
  {
   "cell_type": "markdown",
   "metadata": {},
   "source": [
    "To be more precise, need to deselect the duplicate ID columns and then compare with original table to see if the table was properly reconstructed but the same length is a good sign."
   ]
  },
  {
   "cell_type": "code",
   "execution_count": null,
   "metadata": {},
   "outputs": [],
   "source": []
  }
 ],
 "metadata": {
  "kernelspec": {
   "display_name": "Python 3",
   "language": "python",
   "name": "python3"
  },
  "language_info": {
   "codemirror_mode": {
    "name": "ipython",
    "version": 3
   },
   "file_extension": ".py",
   "mimetype": "text/x-python",
   "name": "python",
   "nbconvert_exporter": "python",
   "pygments_lexer": "ipython3",
   "version": "3.6.4"
  }
 },
 "nbformat": 4,
 "nbformat_minor": 2
}
